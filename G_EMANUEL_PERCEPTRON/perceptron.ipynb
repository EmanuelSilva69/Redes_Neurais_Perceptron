{
  "nbformat": 4,
  "nbformat_minor": 0,
  "metadata": {
    "colab": {
      "provenance": []
    },
    "kernelspec": {
      "name": "python3",
      "display_name": "Python 3"
    },
    "language_info": {
      "name": "python"
    }
  },
  "cells": [
    {
      "cell_type": "markdown",
      "source": [
        "# Atividade de Redes Neurais de Emanuel Lopes Silva"
      ],
      "metadata": {
        "id": "co0N8ZRrkDb_"
      }
    },
    {
      "cell_type": "markdown",
      "source": [
        "\n",
        "##1.1 Introdução ao modelo de Perceptron\n",
        "\n"
      ],
      "metadata": {
        "id": "iFJOlLgLixWJ"
      }
    },
    {
      "cell_type": "markdown",
      "source": [
        "##1.2 Aplicação do Perceptron aos problemas lógicos OR e AND\n"
      ],
      "metadata": {
        "id": "BYlOWqBlj4A0"
      }
    },
    {
      "cell_type": "markdown",
      "source": [
        "##1.3 Discussão do problema XOR e suas implicações para a evolução das Redes Neurais\n"
      ],
      "metadata": {
        "id": "S2-FF-sgj_HD"
      }
    },
    {
      "cell_type": "code",
      "execution_count": null,
      "metadata": {
        "id": "ziEtDXZ_hGEm"
      },
      "outputs": [],
      "source": []
    }
  ]
}
